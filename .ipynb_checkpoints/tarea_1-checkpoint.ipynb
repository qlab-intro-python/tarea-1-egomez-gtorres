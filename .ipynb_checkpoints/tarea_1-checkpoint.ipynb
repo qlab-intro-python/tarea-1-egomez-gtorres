{
 "cells": [
  {
   "cell_type": "markdown",
   "metadata": {},
   "source": [
    "# **Tarea Nº 1**"
   ]
  },
  {
   "cell_type": "markdown",
   "metadata": {},
   "source": [
    "Curso:          Fundamentos de Programación en Python para Macroeconomía y Finanzas     \n",
    "Profesor:       Victor Fuentes Campos     "
   ]
  },
  {
   "cell_type": "markdown",
   "metadata": {},
   "source": [
    "- Fecha y hora de entrega: Jueves 4 de enero, 11:59pm\n",
    "- Agregue los nombres de las personas con las que discutió esta tarea: **Elías Gómez** y **Gustavo Torres**\n",
    "- Envíe su tarea haciendo el `push` de su código a su repo en GitHub Classroom:"
   ]
  },
  {
   "cell_type": "markdown",
   "metadata": {},
   "source": [
    "# 1. Git"
   ]
  },
  {
   "cell_type": "markdown",
   "metadata": {},
   "source": [
    "\n",
    "a. Commit, Push, Pull\n",
    "\n",
    "Instrucciones:\n",
    "1. Cada miembro del equipo debe clonar el repo de su tarea en su computadora\n",
    "1. Luego, en el branch master (`main`), el integrante Nº 1 cambia el nombre del archivo `.ipynb` a `tarea_1.ipynb`\n",
    "1. Usando GitHub Desktop, el integrante Nº 2 notará que hay cambios en el repo. Por lo tanto, hará el `pull` de la nueva versión del repo. Ahora ambos tiene el archivo con el nombre apropiado en sus computadoras\n",
    "\n",
    "*Este ejercicio se calificará directamente en GitHub*\n",
    "\n",
    "b. Merge conflicts (opcional)\n",
    "\n",
    "1. El integrante Nº 1 abre un branch nuevo `merge_conflict_practice_1`. En el archivo `tarea_1.ipynb` reemplazará \"Armando Paredes\" por su nombre. Luego, hará `commit`y `push` de a GitHub. (En Github Desktop se llama `publish`)\n",
    "1. El integrante Nº 2 abre un branch nuevo `merge_conflict_practice_2`. En el archivo `tarea_1.ipynb` reemplazará \"Armando Paredes\" por su nombre. Luego, hará `commit`y `push` de a GitHub. (En Github Desktop se llama `publish`)\n",
    "1. El integrante Nº 1 hará un `pull request`\n",
    "1. El integrante Nº 2 hará el `review` del `pull request`, aceptará los cambios de su compañero y hará `merge` del branch al `master`. ¡Listo, completaste tu primer pull request!\n",
    "1. El integrante Nº 2 hará un `pull request`\n",
    "1. El integrante Nº 1 hará el `review` del `pull request` y habrá un `merge conflict` poeque ambos están cambiando la misma línea de código. Ajuste el archivo y complete el `merge``\n",
    "Cambie de roles y fuerce un `merge conflict` con una sección diferente del archivo `tarea_1.ipynb` (Fecha de entrega, nombre del curso, etc.)\n",
    "1. Explique muy brevemente porque se generó el `merge conflict`"
   ]
  },
  {
   "cell_type": "markdown",
   "metadata": {},
   "source": [
    "*Respuesta: ______________________________*"
   ]
  },
  {
   "cell_type": "markdown",
   "metadata": {},
   "source": [
    "# 2. Variables"
   ]
  },
  {
   "cell_type": "markdown",
   "metadata": {},
   "source": [
    "Considere la siguiente información como punto de partida y complete los espacios en blanco"
   ]
  },
  {
   "cell_type": "code",
   "execution_count": 4,
   "metadata": {},
   "outputs": [],
   "source": [
    "monthly_savings = 10\n",
    "num_months = 12\n",
    "intro = \"Hello! How are you?\""
   ]
  },
  {
   "cell_type": "markdown",
   "metadata": {},
   "source": [
    "a. Calculate year_savings using monthly_savings and num_months\n"
   ]
  },
  {
   "cell_type": "code",
   "execution_count": 5,
   "metadata": {},
   "outputs": [
    {
     "name": "stdout",
     "output_type": "stream",
     "text": [
      "Los gastos anuales son: 120\n"
     ]
    }
   ],
   "source": [
    "# Calculate the product of monthly_savings and num_months\n",
    "year_savings = monthly_savings*num_months\n",
    "print(\"Los gastos anuales son: {p}\".format(p=year_savings))"
   ]
  },
  {
   "cell_type": "markdown",
   "metadata": {},
   "source": [
    "b. Print the type of year_savings"
   ]
  },
  {
   "cell_type": "code",
   "execution_count": 6,
   "metadata": {},
   "outputs": [
    {
     "name": "stdout",
     "output_type": "stream",
     "text": [
      "<class 'int'>\n"
     ]
    }
   ],
   "source": [
    "# What do you think the resulting type will be? Find out by printing out the type of year_savings.\n",
    "print(type(year_savings)) # correct, I was thinking in the int class"
   ]
  },
  {
   "cell_type": "markdown",
   "metadata": {},
   "source": [
    "c. Assign sum of intro and intro to doubleintro"
   ]
  },
  {
   "cell_type": "code",
   "execution_count": 7,
   "metadata": {},
   "outputs": [
    {
     "name": "stdout",
     "output_type": "stream",
     "text": [
      "The sum of two string are: Hello! How are you?Hello! How are you?\n"
     ]
    }
   ],
   "source": [
    "# Calculate the sum of intro and intro and store the result in a new variable doubleintro.\n",
    "doubleintro = intro + intro"
   ]
  },
  {
   "cell_type": "markdown",
   "metadata": {},
   "source": [
    "d. Print out doubleintro"
   ]
  },
  {
   "cell_type": "code",
   "execution_count": 8,
   "metadata": {},
   "outputs": [
    {
     "name": "stdout",
     "output_type": "stream",
     "text": [
      "The sum of two string are: \n",
      "Hello! How are you?Hello! How are you?\n"
     ]
    }
   ],
   "source": [
    "# Print out doubleintro. Did you expect this?\n",
    "print(\"The sum of two string are: \\n{d}\".format(d=doubleintro)) # Yes, bcs I need to add a manually space, but it could fix it"
   ]
  },
  {
   "cell_type": "markdown",
   "metadata": {},
   "source": [
    "# 3. Lists"
   ]
  },
  {
   "cell_type": "markdown",
   "metadata": {},
   "source": [
    "Considere la siguiente información como punto de partida y complete los espacios en blanco"
   ]
  },
  {
   "cell_type": "code",
   "execution_count": 42,
   "metadata": {},
   "outputs": [],
   "source": [
    "import numpy as np\n",
    "f_list = [\"Brazil\", np.nan , np.nan, \"Austria\", \"Germany\", np.nan, \"Pakistan\", \"np.nan\", np.nan ]\n",
    "text1 = ['My', 'new', 'teacher', 'assistant', 'is', 'so', 'boring.']\n",
    "p1_list = [ 2 , 3, 4, 5 , 6 ]\n",
    "values1 = [ 86, 86, 85, 85, 85, 83, 23, 0, 84, 1, 91 ]\n",
    "last_and_name = [ \"CORNEJO SANCHEZ, CHRISTIAN SANTOS\", \"ORELLANA QUISPE, CRISTIAN NASSER\", \"MORALES CHOQUEHUANCA, ANGELICA KARINA\", \"GUIMARAY RIBEYRO, JOSE ROBERTO\", \"CAMACHO GAVIDIA, ABEL FERNANDO\", \"TINTAYA ORIHUELA, MEIR ALVARO\", \"CHAVEZ MARTINEZ, JOSELIN ALEXANDRA\", \"FIGUEROA MURO, LEONEL ARTURO\", \"GOMEZ CRIBILLERO, JOSE FELIPE\", \"PALOMINO SEGUÍN, AFRANIA\", \"LUZON CUEVA, BIANCA MARIETTE\", \"SUAÑA ZEGARRA, ADRIAN ANDRE\", \"SOTO POMACHAGUA, DORKAS YOMIRA JHERMY\", \"FIORENTINO MARTINEZ, LADY ALY\", \"LAMA MAVILA, HECTOR ANDRE\", \"MEZA HINOJO, GUSTAVO\", \"LOZADA MURILLO, PERSEO MARCELO\", \"ZAMBRANO JIMENEZ, MIGUEL ALONZO\", \"JACOBS LUQUE, NICOLAS\", \"VIDAL VIDAL, ROCIO GABRIELA\", \"TORRES ANICAMA, JANE CAMILA\", \"LOPEZ ESTRADA, MARIA ELISA\", \"BOYCO ORAMS, ALEJANDRO\", \"DIAZ BERROSPI, KARLINE ROSMELI\", \"RIEGA ESCALANTE, STEPHY ROSARIO\", \"LEVANO TORRES, VALERIA CECILIA\", \"ESQUIVES BRAVO, SEBASTIAN RENATO\", \"PEREZ GONZALES, JUAN CARLOS\", \"OTERO MAGUIÑA, MARIANA\", \"CLAVO CAMPOS, ANDREA BRIZETH\", \"AGUILAR GARCIA, ERICK JOSUE\", \"CALDAS VELASQUEZ, JOSUE DANIEL\", \"SALAS NUÑEZ BORJA, FABIO MANUEL\", \"PIZARRO VILLANES, FERNANDA NICOLLE\", \"QUILLATUPA MORALES, ANGELA ADELINA\", \"HUANCAYA IDONE, CESAR DANTE\", \"CALVO PORTOCARRERO, GABRIELA ISABEL\", \"IBAÑEZ ABANTO, ANGEL MAURICIO\", \"MELÉNDEZ APONTE, JUAN DIEGO\", \"CRISTIAN SERRANO, ARONE\", \"HINOJOSA CAHUANA, PERCY ALBERTH\", \"ANGLAS GARCÍA, KEVIN ARTURO\", \"ALDAVE ACOSTA, CESAR ERNESTO\", \"NÚÑEZ HUAMÁN, CÉSAR AGUSTO\", \"OBREGON HUAMAN, DIANA EDITH\", \"SOTO PACHERRES, RODRIGO FRANCO\", \"INGARUCA RIVERA, GRETTEL ALEXANDRA\", \"ROJAS HUAMAN, ROSA ANGELA\", \"NEYRA SALAS, DANTE OMAR\", \"HUERTA ESPINOZA, YAJAIRA ALEXANDRA\", \"HUANCA MARTINEZ, JORGE ALBERTO\", \"FLORES CADILLO, ALEXIS\" ]\n",
    "emails = [\"cscornejo@pucp.edu.pe\", \"orellana.cn@pucp.edu.pe\", \"karina.morales@pucp.edu.pe\", \"a20083223@pucp.pe\", \"abel.camacho@pucp.pe\", \"mtintaya@pucp.edu.pe\", \"joselin.chavez@pucp.edu.pe\", \"a20105737@pucp.pe\", \"jfgomezc@pucp.pe\", \"afrania.palomino@pucp.pe\", \"luzon.bianca@pucp.pe\", \"adrian.suanaz@pucp.pe\", \"soto.y@pucp.edu.pe\", \"a20132766@pucp.pe\", \"andre.lama@pucp.edu.pe\", \"gustavo.meza@pucp.edu.pe\", \"pmlozada@pucp.edu.pe\", \"m.zambranoj@pucp.edu.pe\", \"nicolas.jacobs@pucp.edu.pe\", \"gvidal@pucp.edu.pe\", \"jane.torres@pucp.edu.pe\", \"m.lopez@pucp.edu.pe\", \"alejandro.boyco@pucp.edu.pe\", \"a20167070@pucp.edu.pe\", \"riega.stephy@pucp.edu.pe\", \"vlevanot@pucp.edu.pe\", \"sesquives@pucp.edu.pe\", \"perez.juanc@pucp.edu.pe\", \"mariana.otero@pucp.edu.pe\", \"aclavo@pucp.edu.pe\", \"a20182474@pucp.edu.pe\", \"josue.caldas@pucp.edu.pe\", \"fabio.salas@pucp.edu.pe\", \"fernanda.pizarro@pucp.edu.pe\", \"aquillatupa@pucp.pe\", \"\", \"\", \"\", \"\", \"\", \"f0873079@pucp.edu.pe\", \"\", \"\", \"\", \"\", \"\", \"\", \"\", \"\", \"\", \"\", \"flores.alexis@pucp.edu.pe\", ]"
   ]
  },
  {
   "cell_type": "markdown",
   "metadata": {},
   "source": [
    "a. Show the indices of the `np.nan`` values in the `f_list` list. We want to see this output: *The indices 1, 2, 5, 8 have np.nan values*. Hint: Use print function and f-strings to insert the indices values."
   ]
  },
  {
   "cell_type": "code",
   "execution_count": 44,
   "metadata": {},
   "outputs": [
    {
     "name": "stdout",
     "output_type": "stream",
     "text": [
      "The indices 1, 2, 5, 8 have np.nan values.\n"
     ]
    },
    {
     "name": "stderr",
     "output_type": "stream",
     "text": [
      "C:\\Users\\Aixa\\AppData\\Local\\Temp\\ipykernel_25192\\3235356592.py:2: DeprecationWarning: `np.float` is a deprecated alias for the builtin `float`. To silence this warning, use `float` by itself. Doing this will not modify any behavior and is safe. If you specifically wanted the numpy scalar type, use `np.float64` here.\n",
      "Deprecated in NumPy 1.20; for more details and guidance: https://numpy.org/devdocs/release/1.20.0-notes.html#deprecations\n",
      "  nan_indices = [i for i, value in enumerate(f_list) if isinstance(value, (float, np.float)) and np.isnan(value)]\n"
     ]
    }
   ],
   "source": [
    "# Find the indices of np.nan values and non-numeric elements\n",
    "nan_indices = [i for i, value in enumerate(f_list) if isinstance(value, (float, np.float)) and np.isnan(value)]\n",
    "\n",
    "# Print the output using f-string\n",
    "if nan_indices:\n",
    "    print(f\"The indices {', '.join(map(str, nan_indices))} have np.nan values.\")\n",
    "else:\n",
    "    print(\"No np.nan values found.\")"
   ]
  },
  {
   "cell_type": "markdown",
   "metadata": {},
   "source": [
    "b. Replicate 4 times the values of the list `p1_list`. We expect an ouput like this: [ 2 , 3, 4, 5, 2 , 3, 4, 5, 2 , 3, 4, 5, 2 , 3, 4, 5]. Hint: Use multiplication function in listsand see the output."
   ]
  },
  {
   "cell_type": "code",
   "execution_count": 52,
   "metadata": {},
   "outputs": [
    {
     "name": "stdout",
     "output_type": "stream",
     "text": [
      "[2, 3, 4, 5, 6, 2, 3, 4, 5, 6, 2, 3, 4, 5, 6, 2, 3, 4, 5, 6]\n"
     ]
    }
   ],
   "source": [
    "# Replicates p1_list\n",
    "output_2b = p1_list * 4\n",
    "print(output_2b)"
   ]
  },
  {
   "cell_type": "markdown",
   "metadata": {},
   "source": [
    "c. Print the length of `f_list`. **Hint: Length function**"
   ]
  },
  {
   "cell_type": "code",
   "execution_count": 53,
   "metadata": {},
   "outputs": [
    {
     "name": "stdout",
     "output_type": "stream",
     "text": [
      "9\n"
     ]
    }
   ],
   "source": [
    "# Lenngth of f_list\n",
    "print(len(f_list))"
   ]
  },
  {
   "cell_type": "markdown",
   "metadata": {},
   "source": [
    "d. Print `My new teacher assistant is so boring.` using `text1` list. **Hint: Use the [`join` function](https://stackoverflow.com/questions/493819/why-is-it-string-joinlist-instead-of-list-joinstring)**"
   ]
  },
  {
   "cell_type": "code",
   "execution_count": 54,
   "metadata": {},
   "outputs": [
    {
     "name": "stdout",
     "output_type": "stream",
     "text": [
      "My new teacher assistant is so boring.\n"
     ]
    }
   ],
   "source": [
    "# Printing\n",
    "print(\" \".join(text1))"
   ]
  },
  {
   "cell_type": "markdown",
   "metadata": {},
   "source": [
    "e. Using `values1`, print <br>\n",
    "`The max value of values1 is 86 and is located in the 0 index. ` <br>\n",
    "`The min value of values1 is 0 and is located in the 7 index. ` <br> **Hint: Use the `f-string`, `min`, and `max` functions.**\n",
    "<br>"
   ]
  },
  {
   "cell_type": "code",
   "execution_count": 62,
   "metadata": {},
   "outputs": [
    {
     "name": "stdout",
     "output_type": "stream",
     "text": [
      "The max value of values1 is 86 and is located in the 0\n",
      "The min value of values1 is 0 and is located in the 7\n"
     ]
    }
   ],
   "source": [
    "# Printing\n",
    "values1.pop()\n",
    "print(\"The max value of values1 is {a} and is located in the {b}\".format(a=max(values1), b=values1.index(max(values1))))\n",
    "print(\"The min value of values1 is {c} and is located in the {d}\".format(c=min(values1), d=values1.index(min(values1))))"
   ]
  },
  {
   "cell_type": "markdown",
   "metadata": {},
   "source": [
    "f. Get two lists: `given_names` and `last_names` using `last_and_name` list. **Hint: Use `map` and `split`.**"
   ]
  },
  {
   "cell_type": "code",
   "execution_count": 77,
   "metadata": {},
   "outputs": [],
   "source": [
    "# Two lists\n",
    "last_names, given_names = map(list, zip(*map(lambda x: x.split(', ', 1), last_and_name)))"
   ]
  },
  {
   "cell_type": "markdown",
   "metadata": {},
   "source": [
    "g. (Opcional) Give only the last names of students who do not have email. Use the `emails` and `last_names` listt. **Hint: Use `map` and `split`.**"
   ]
  },
  {
   "cell_type": "code",
   "execution_count": null,
   "metadata": {},
   "outputs": [],
   "source": [
    "# List of of those who do not have email\n"
   ]
  },
  {
   "cell_type": "markdown",
   "metadata": {},
   "source": [
    "# 4.   Tuple\n"
   ]
  },
  {
   "cell_type": "markdown",
   "metadata": {},
   "source": [
    "Considere la siguiente información como punto de partida y complete los espacios en blanco"
   ]
  },
  {
   "cell_type": "code",
   "execution_count": 80,
   "metadata": {},
   "outputs": [],
   "source": [
    "tuple1 = (\"Orange\", [10, 20, 30], (5, 15, 25))\n",
    "tuple2 = ([7, 8], [9, 1], [10, 7])"
   ]
  },
  {
   "cell_type": "markdown",
   "metadata": {},
   "source": [
    "1. Print the first item of the second item of tuple1 object"
   ]
  },
  {
   "cell_type": "code",
   "execution_count": 82,
   "metadata": {},
   "outputs": [
    {
     "data": {
      "text/plain": [
       "10"
      ]
     },
     "execution_count": 82,
     "metadata": {},
     "output_type": "execute_result"
    }
   ],
   "source": [
    "# Print\n",
    "tuple1[1][0]"
   ]
  },
  {
   "cell_type": "markdown",
   "metadata": {},
   "source": [
    "2. Print the last item of the tuple1 object"
   ]
  },
  {
   "cell_type": "code",
   "execution_count": 83,
   "metadata": {},
   "outputs": [
    {
     "data": {
      "text/plain": [
       "(5, 15, 25)"
      ]
     },
     "execution_count": 83,
     "metadata": {},
     "output_type": "execute_result"
    }
   ],
   "source": [
    "# Print\n",
    "tuple1[-1]"
   ]
  },
  {
   "cell_type": "markdown",
   "metadata": {},
   "source": [
    "3. Change the value \"orange\" for \"pink grapefruit\". Comment the output"
   ]
  },
  {
   "cell_type": "code",
   "execution_count": 85,
   "metadata": {},
   "outputs": [
    {
     "ename": "TypeError",
     "evalue": "'tuple' object does not support item assignment",
     "output_type": "error",
     "traceback": [
      "\u001b[1;31m---------------------------------------------------------------------------\u001b[0m",
      "\u001b[1;31mTypeError\u001b[0m                                 Traceback (most recent call last)",
      "Cell \u001b[1;32mIn[85], line 2\u001b[0m\n\u001b[0;32m      1\u001b[0m \u001b[38;5;66;03m# Change value\u001b[39;00m\n\u001b[1;32m----> 2\u001b[0m tuple1[\u001b[38;5;241m0\u001b[39m] \u001b[38;5;241m=\u001b[39m \u001b[38;5;124m\"\u001b[39m\u001b[38;5;124mpink grapefruit\u001b[39m\u001b[38;5;124m\"\u001b[39m\n",
      "\u001b[1;31mTypeError\u001b[0m: 'tuple' object does not support item assignment"
     ]
    }
   ],
   "source": [
    "# Change value\n",
    "tuple1[0] = \"pink grapefruit\" # Las tuplas no se pueden modificar, las listas sí"
   ]
  },
  {
   "cell_type": "markdown",
   "metadata": {},
   "source": [
    "4. Print the length of tuple1"
   ]
  },
  {
   "cell_type": "code",
   "execution_count": 86,
   "metadata": {},
   "outputs": [
    {
     "name": "stdout",
     "output_type": "stream",
     "text": [
      "3\n"
     ]
    }
   ],
   "source": [
    "# Print\n",
    "print(len(tuple1))"
   ]
  },
  {
   "cell_type": "markdown",
   "metadata": {},
   "source": [
    "5. Sum all the elements of tuple2 and describe your steps and explain each of them. Hint: Use map function.\n"
   ]
  },
  {
   "cell_type": "code",
   "execution_count": 88,
   "metadata": {},
   "outputs": [
    {
     "name": "stdout",
     "output_type": "stream",
     "text": [
      "The sum of elements in tuple2 is: 42\n"
     ]
    }
   ],
   "source": [
    "# Sum all elemenets of tuple2\n",
    "sublist_sums = map(sum, tuple2) # Use map to sum sublists\n",
    "\n",
    "total_sum = sum(sublist_sums) # Sum the sublist sums\n",
    "\n",
    "print(f\"The sum of elements in tuple2 is: {total_sum}\") # Print the result"
   ]
  },
  {
   "cell_type": "markdown",
   "metadata": {},
   "source": [
    "6. (Opcional) Generate a new tuple object named as tuple3 with the half values of tuple2. This tuple should be similar as tuple2, tuple of lists. Hint: Use map funciont."
   ]
  },
  {
   "cell_type": "code",
   "execution_count": null,
   "metadata": {},
   "outputs": [],
   "source": [
    "# New tuple"
   ]
  },
  {
   "cell_type": "markdown",
   "metadata": {},
   "source": [
    "# 5. Strings"
   ]
  },
  {
   "cell_type": "markdown",
   "metadata": {},
   "source": [
    "Considere la siguiente información como punto de partida y complete los espacios en blanco"
   ]
  },
  {
   "cell_type": "code",
   "execution_count": 90,
   "metadata": {},
   "outputs": [],
   "source": [
    "str1 = 'I am                            too                                                        old'\n",
    "emails = [\"cscornejo@pucp.edu.pe\", \"orellana.cn@pucp.edu.pe\", \"karina.morales@pucp.edu.pe\", \"a20083223@pucp.pe\", \"abel.camacho@pucp.pe\", \"mtintaya@pucp.edu.pe\", \"joselin.chavez@pucp.edu.pe\", \"a20105737@pucp.pe\", \"jfgomezc@pucp.pe\", \"afrania.palomino@pucp.pe\", \"luzon.bianca@pucp.pe\", \"adrian.suanaz@pucp.pe\", \"soto.y@pucp.edu.pe\", \"a20132766@pucp.pe\", \"andre.lama@pucp.edu.pe\", \"gustavo.meza@pucp.edu.pe\", \"pmlozada@pucp.edu.pe\", \"m.zambranoj@pucp.edu.pe\", \"nicolas.jacobs@pucp.edu.pe\", \"gvidal@pucp.edu.pe\", \"jane.torres@pucp.edu.pe\", \"m.lopez@pucp.edu.pe\", \"alejandro.boyco@pucp.edu.pe\", \"a20167070@pucp.edu.pe\", \"riega.stephy@pucp.edu.pe\", \"vlevanot@pucp.edu.pe\", \"sesquives@pucp.edu.pe\", \"perez.juanc@pucp.edu.pe\", \"mariana.otero@pucp.edu.pe\", \"aclavo@pucp.edu.pe\", \"a20182474@pucp.edu.pe\", \"josue.caldas@pucp.edu.pe\", \"fabio.salas@pucp.edu.pe\", \"fernanda.pizarro@pucp.edu.pe\", \"aquillatupa@pucp.pe\"]"
   ]
  },
  {
   "cell_type": "markdown",
   "metadata": {},
   "source": [
    "1. Drop the duplicated blank spaces in `str1`. Do not use the regular expresions. Do not use the code shown in class. Explain your steps.**Hint: Use `split` method and `join` function.**"
   ]
  },
  {
   "cell_type": "code",
   "execution_count": 91,
   "metadata": {},
   "outputs": [
    {
     "name": "stdout",
     "output_type": "stream",
     "text": [
      "The modified string is: 'I am too old'\n"
     ]
    }
   ],
   "source": [
    "# Drop duplicated blank spaces\n",
    "words = str1.split()\n",
    "\n",
    "# Join the words with a single space between each\n",
    "new_str1 = ' '.join(words)\n",
    "\n",
    "# Print the result\n",
    "print(f\"The modified string is: '{new_str1}'\")"
   ]
  },
  {
   "cell_type": "markdown",
   "metadata": {},
   "source": [
    "2. Get the number of letters in the string .**Hint: Use `len`function.**"
   ]
  },
  {
   "cell_type": "code",
   "execution_count": 92,
   "metadata": {},
   "outputs": [
    {
     "name": "stdout",
     "output_type": "stream",
     "text": [
      "The number of letters in the string is: 9\n"
     ]
    }
   ],
   "source": [
    "# Number of letters\n",
    "# Remove non-letter characters and count the remaining letters\n",
    "letter_count = len([char for char in str1 if char.isalpha()])\n",
    "\n",
    "# Print the result\n",
    "print(f\"The number of letters in the string is: {letter_count}\")"
   ]
  },
  {
   "cell_type": "markdown",
   "metadata": {},
   "source": [
    "3. (Optional) Get the number of blank spaces (all of them) in the string .**Hint: Use `len`function.**"
   ]
  },
  {
   "cell_type": "code",
   "execution_count": 93,
   "metadata": {},
   "outputs": [
    {
     "name": "stdout",
     "output_type": "stream",
     "text": [
      "The number of blank spaces in the string is: 85\n"
     ]
    }
   ],
   "source": [
    "# Number of blanck spaces\n",
    "# Count the total number of blank spaces\n",
    "blank_space_count = len([char for char in str1 if char.isspace()])\n",
    "\n",
    "# Print the result\n",
    "print(f\"The number of blank spaces in the string is: {blank_space_count}\")"
   ]
  },
  {
   "cell_type": "markdown",
   "metadata": {},
   "source": [
    "# 6. NumPy"
   ]
  },
  {
   "cell_type": "markdown",
   "metadata": {},
   "source": [
    "Considere la siguiente información como punto de partida y complete los espacios en blanco"
   ]
  },
  {
   "cell_type": "code",
   "execution_count": 94,
   "metadata": {},
   "outputs": [
    {
     "data": {
      "text/plain": [
       "array([9, 3, 9, 8, 2, 7, 4, 3, 4, 5, 3, 5, 2, 4, 3, 8, 1, 6, 7, 1, 1, 2,\n",
       "       2, 1, 9, 0, 5, 0, 9, 4, 0, 3, 2, 4, 1, 1, 3, 1, 3, 8, 3, 2, 6, 4,\n",
       "       6, 7, 1, 1, 4, 5, 4, 7, 0, 9, 4, 5, 4, 3, 1, 7, 1, 8, 1, 4, 8, 0,\n",
       "       9, 5, 1, 3, 4, 7, 7, 5, 9, 4, 5, 5, 3, 8, 4, 8, 9, 2, 1, 2, 0, 0,\n",
       "       6, 4, 9, 4, 5, 9, 3, 9, 1, 1, 8, 6, 2, 4, 9, 8, 3, 9, 9, 8, 0, 5,\n",
       "       9, 6, 6, 5, 1, 4, 8, 1, 2, 1, 6, 5, 2, 6, 3, 6, 1, 6, 5, 5, 8, 5,\n",
       "       7, 5, 5, 8, 9, 5, 5, 1, 7, 4, 6, 2, 4, 9, 5, 9, 9, 8, 3, 7, 6, 1,\n",
       "       5, 7, 7, 9, 3, 2, 5, 5, 1, 5, 0, 5, 6, 9, 1, 5, 2, 1, 9, 1, 6, 0,\n",
       "       3, 1, 7, 3, 6, 7, 2, 6, 3, 6, 5, 7, 1, 1, 7, 6, 5, 3, 6, 9, 6, 3,\n",
       "       6, 9, 3, 9, 3, 9, 8, 0, 2, 9, 6, 0, 2, 4, 5, 5, 8, 0, 1, 1, 5, 7,\n",
       "       5, 2, 4, 9, 3, 2, 4, 4, 8, 6, 1, 1, 4, 2, 3, 3, 8, 5, 2, 2, 8, 0,\n",
       "       8, 3, 1, 9, 4, 3, 1, 4, 7, 5, 4, 5, 4, 7, 2, 5, 1, 3, 3, 5, 3, 9,\n",
       "       7, 6, 1, 3, 6, 4, 9, 8, 2, 2, 5, 2, 2, 2, 1, 5, 3, 4, 8, 1, 9, 9,\n",
       "       0, 2, 9, 3, 7, 6, 1, 8, 4, 4, 1, 2, 1, 8, 5, 5, 1, 0, 9, 8, 1, 0,\n",
       "       5, 6, 4, 6, 2, 6, 0, 2, 4, 3, 5, 9, 3, 3, 4, 0, 3, 9, 5, 7, 1, 0,\n",
       "       6, 8, 5, 1, 7, 6, 4, 9, 0, 2, 8, 0, 3, 6, 1, 9, 3, 1, 0, 6, 1, 7,\n",
       "       2, 5, 7, 2, 4, 0, 8, 8, 8, 0, 8, 2, 4, 0, 9, 4, 4, 0, 5, 7, 1, 8,\n",
       "       8, 4, 9, 9, 6, 9, 0, 6, 9, 6, 2, 1, 7, 4, 7, 1, 9, 4, 5, 5, 9, 7,\n",
       "       7, 5, 4, 4, 5, 0, 3, 8, 0, 1, 7, 1, 4, 8, 0, 9, 3, 8, 5, 9, 9, 6,\n",
       "       7, 0, 8, 5, 2, 9, 1, 4, 8, 8, 6, 6, 3, 9, 1, 9, 2, 6, 9, 8, 8, 2,\n",
       "       1, 7, 8, 3, 3, 6, 8, 6, 1, 4, 0, 1, 5, 5, 7, 2, 2, 8, 2, 1, 5, 7,\n",
       "       8, 6, 8, 8, 0, 9, 3, 3, 0, 3, 3, 1, 6, 1, 5, 6, 6, 7, 5, 2, 9, 7,\n",
       "       3, 0, 8, 4, 6, 8, 4, 8, 4, 5, 8, 7, 4, 3, 6, 0])"
      ]
     },
     "execution_count": 94,
     "metadata": {},
     "output_type": "execute_result"
    }
   ],
   "source": [
    "prueba1 = np.random.randint(0,10,500)\n",
    "prueba1\n"
   ]
  },
  {
   "cell_type": "code",
   "execution_count": 109,
   "metadata": {},
   "outputs": [
    {
     "data": {
      "text/plain": [
       "array([26, 43, 46, 42, 13,  6,  4, 22, 49, 16,  0, 45, 39, 34, 11, 38, 14,\n",
       "       19, 27, 31, 28,  3, 18, 35,  9, 48, 36,  5, 23, 20, 21, 30, 12, 25,\n",
       "        7,  1,  8, 37, 41, 47, 32, 10, 24, 33, 29, 44, 40, 17,  2, 15])"
      ]
     },
     "execution_count": 109,
     "metadata": {},
     "output_type": "execute_result"
    }
   ],
   "source": [
    "prueba2 = np.arange(50)\n",
    "np.random.shuffle(prueba2)\n",
    "prueba2"
   ]
  },
  {
   "cell_type": "markdown",
   "metadata": {},
   "source": [
    "a. Find the most frequent value in the prueba1 array?"
   ]
  },
  {
   "cell_type": "code",
   "execution_count": 97,
   "metadata": {},
   "outputs": [
    {
     "name": "stdout",
     "output_type": "stream",
     "text": [
      "The most frequent value in prueba1 is: 1\n"
     ]
    }
   ],
   "source": [
    "# Most frequent value\n",
    "most_frequent_value = np.argmax(np.bincount(prueba1))\n",
    "\n",
    "print(f\"The most frequent value in prueba1 is: {most_frequent_value}\")"
   ]
  },
  {
   "cell_type": "markdown",
   "metadata": {},
   "source": [
    "b. Convert the 1D array prueba2 to a 2D array with 5 rows"
   ]
  },
  {
   "cell_type": "code",
   "execution_count": 112,
   "metadata": {},
   "outputs": [
    {
     "name": "stdout",
     "output_type": "stream",
     "text": [
      "Converted 2D array with 5 rows:\n",
      "\n",
      "[[26 43 46 42 13  6  4 22 49 16]\n",
      " [ 0 45 39 34 11 38 14 19 27 31]\n",
      " [28  3 18 35  9 48 36  5 23 20]\n",
      " [21 30 12 25  7  1  8 37 41 47]\n",
      " [32 10 24 33 29 44 40 17  2 15]]\n"
     ]
    }
   ],
   "source": [
    "# Reshape\n",
    "# Convert to a 2D array with 5 rows\n",
    "prueba2_2d = prueba2.reshape((5, -1))\n",
    "print(f\"Converted 2D array with 5 rows:\\n\\n{prueba2_2d}\")"
   ]
  }
 ],
 "metadata": {
  "hide_input": false,
  "kernelspec": {
   "display_name": "Python 3 (ipykernel)",
   "language": "python",
   "name": "python3"
  },
  "language_info": {
   "codemirror_mode": {
    "name": "ipython",
    "version": 3
   },
   "file_extension": ".py",
   "mimetype": "text/x-python",
   "name": "python",
   "nbconvert_exporter": "python",
   "pygments_lexer": "ipython3",
   "version": "3.10.9"
  },
  "toc": {
   "base_numbering": 1,
   "nav_menu": {},
   "number_sections": true,
   "sideBar": true,
   "skip_h1_title": false,
   "title_cell": "Table of Contents",
   "title_sidebar": "Contents",
   "toc_cell": false,
   "toc_position": {},
   "toc_section_display": true,
   "toc_window_display": false
  }
 },
 "nbformat": 4,
 "nbformat_minor": 4
}
